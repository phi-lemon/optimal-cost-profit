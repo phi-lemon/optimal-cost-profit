{
 "cells": [
  {
   "cell_type": "markdown",
   "id": "d37c9606",
   "metadata": {},
   "source": [
    "# Max profit : bruteforce"
   ]
  },
  {
   "cell_type": "code",
   "execution_count": 47,
   "id": "b741eab8",
   "metadata": {},
   "outputs": [],
   "source": [
    "INPUT_FILE = 'data/actions.csv'"
   ]
  },
  {
   "cell_type": "markdown",
   "id": "8cb178f7",
   "metadata": {},
   "source": [
    "## Load csv"
   ]
  },
  {
   "cell_type": "code",
   "execution_count": 48,
   "id": "0fda6aff",
   "metadata": {},
   "outputs": [
    {
     "data": {
      "text/html": [
       "<div>\n",
       "<style scoped>\n",
       "    .dataframe tbody tr th:only-of-type {\n",
       "        vertical-align: middle;\n",
       "    }\n",
       "\n",
       "    .dataframe tbody tr th {\n",
       "        vertical-align: top;\n",
       "    }\n",
       "\n",
       "    .dataframe thead th {\n",
       "        text-align: right;\n",
       "    }\n",
       "</style>\n",
       "<table border=\"1\" class=\"dataframe\">\n",
       "  <thead>\n",
       "    <tr style=\"text-align: right;\">\n",
       "      <th></th>\n",
       "      <th>name</th>\n",
       "      <th>price</th>\n",
       "      <th>profit</th>\n",
       "      <th>gain</th>\n",
       "    </tr>\n",
       "  </thead>\n",
       "  <tbody>\n",
       "    <tr>\n",
       "      <th>1</th>\n",
       "      <td>A-1</td>\n",
       "      <td>20</td>\n",
       "      <td>0.05</td>\n",
       "      <td>1.00</td>\n",
       "    </tr>\n",
       "    <tr>\n",
       "      <th>2</th>\n",
       "      <td>A-2</td>\n",
       "      <td>30</td>\n",
       "      <td>0.10</td>\n",
       "      <td>3.00</td>\n",
       "    </tr>\n",
       "    <tr>\n",
       "      <th>3</th>\n",
       "      <td>A-3</td>\n",
       "      <td>50</td>\n",
       "      <td>0.15</td>\n",
       "      <td>7.50</td>\n",
       "    </tr>\n",
       "    <tr>\n",
       "      <th>4</th>\n",
       "      <td>A-4</td>\n",
       "      <td>70</td>\n",
       "      <td>0.20</td>\n",
       "      <td>14.00</td>\n",
       "    </tr>\n",
       "    <tr>\n",
       "      <th>5</th>\n",
       "      <td>A-5</td>\n",
       "      <td>60</td>\n",
       "      <td>0.17</td>\n",
       "      <td>10.20</td>\n",
       "    </tr>\n",
       "    <tr>\n",
       "      <th>6</th>\n",
       "      <td>A-6</td>\n",
       "      <td>80</td>\n",
       "      <td>0.25</td>\n",
       "      <td>20.00</td>\n",
       "    </tr>\n",
       "    <tr>\n",
       "      <th>7</th>\n",
       "      <td>A-7</td>\n",
       "      <td>22</td>\n",
       "      <td>0.07</td>\n",
       "      <td>1.54</td>\n",
       "    </tr>\n",
       "    <tr>\n",
       "      <th>8</th>\n",
       "      <td>A-8</td>\n",
       "      <td>26</td>\n",
       "      <td>0.11</td>\n",
       "      <td>2.86</td>\n",
       "    </tr>\n",
       "    <tr>\n",
       "      <th>9</th>\n",
       "      <td>A-9</td>\n",
       "      <td>48</td>\n",
       "      <td>0.13</td>\n",
       "      <td>6.24</td>\n",
       "    </tr>\n",
       "    <tr>\n",
       "      <th>10</th>\n",
       "      <td>A-10</td>\n",
       "      <td>34</td>\n",
       "      <td>0.27</td>\n",
       "      <td>9.18</td>\n",
       "    </tr>\n",
       "    <tr>\n",
       "      <th>11</th>\n",
       "      <td>A-11</td>\n",
       "      <td>42</td>\n",
       "      <td>0.17</td>\n",
       "      <td>7.14</td>\n",
       "    </tr>\n",
       "    <tr>\n",
       "      <th>12</th>\n",
       "      <td>A-12</td>\n",
       "      <td>110</td>\n",
       "      <td>0.09</td>\n",
       "      <td>9.90</td>\n",
       "    </tr>\n",
       "    <tr>\n",
       "      <th>13</th>\n",
       "      <td>A-13</td>\n",
       "      <td>38</td>\n",
       "      <td>0.23</td>\n",
       "      <td>8.74</td>\n",
       "    </tr>\n",
       "    <tr>\n",
       "      <th>14</th>\n",
       "      <td>A-14</td>\n",
       "      <td>14</td>\n",
       "      <td>0.01</td>\n",
       "      <td>0.14</td>\n",
       "    </tr>\n",
       "    <tr>\n",
       "      <th>15</th>\n",
       "      <td>A-15</td>\n",
       "      <td>18</td>\n",
       "      <td>0.03</td>\n",
       "      <td>0.54</td>\n",
       "    </tr>\n",
       "    <tr>\n",
       "      <th>16</th>\n",
       "      <td>A-16</td>\n",
       "      <td>8</td>\n",
       "      <td>0.08</td>\n",
       "      <td>0.64</td>\n",
       "    </tr>\n",
       "    <tr>\n",
       "      <th>17</th>\n",
       "      <td>A-17</td>\n",
       "      <td>4</td>\n",
       "      <td>0.12</td>\n",
       "      <td>0.48</td>\n",
       "    </tr>\n",
       "    <tr>\n",
       "      <th>18</th>\n",
       "      <td>A-18</td>\n",
       "      <td>10</td>\n",
       "      <td>0.14</td>\n",
       "      <td>1.40</td>\n",
       "    </tr>\n",
       "    <tr>\n",
       "      <th>19</th>\n",
       "      <td>A-19</td>\n",
       "      <td>24</td>\n",
       "      <td>0.21</td>\n",
       "      <td>5.04</td>\n",
       "    </tr>\n",
       "    <tr>\n",
       "      <th>20</th>\n",
       "      <td>A-20</td>\n",
       "      <td>114</td>\n",
       "      <td>0.18</td>\n",
       "      <td>20.52</td>\n",
       "    </tr>\n",
       "  </tbody>\n",
       "</table>\n",
       "</div>"
      ],
      "text/plain": [
       "    name  price  profit   gain\n",
       "1    A-1     20    0.05   1.00\n",
       "2    A-2     30    0.10   3.00\n",
       "3    A-3     50    0.15   7.50\n",
       "4    A-4     70    0.20  14.00\n",
       "5    A-5     60    0.17  10.20\n",
       "6    A-6     80    0.25  20.00\n",
       "7    A-7     22    0.07   1.54\n",
       "8    A-8     26    0.11   2.86\n",
       "9    A-9     48    0.13   6.24\n",
       "10  A-10     34    0.27   9.18\n",
       "11  A-11     42    0.17   7.14\n",
       "12  A-12    110    0.09   9.90\n",
       "13  A-13     38    0.23   8.74\n",
       "14  A-14     14    0.01   0.14\n",
       "15  A-15     18    0.03   0.54\n",
       "16  A-16      8    0.08   0.64\n",
       "17  A-17      4    0.12   0.48\n",
       "18  A-18     10    0.14   1.40\n",
       "19  A-19     24    0.21   5.04\n",
       "20  A-20    114    0.18  20.52"
      ]
     },
     "execution_count": 48,
     "metadata": {},
     "output_type": "execute_result"
    }
   ],
   "source": [
    "import pandas as pd\n",
    "\n",
    "df = pd.read_csv(INPUT_FILE)\n",
    "\n",
    "# Transform percent to float\n",
    "df['profit'] = df['profit'].apply(lambda x: x / 100)\n",
    "df['gain'] = df['price'] * df['profit']\n",
    "\n",
    "df.index +=1\n",
    "\n",
    "df"
   ]
  },
  {
   "cell_type": "markdown",
   "id": "4668a6f9",
   "metadata": {},
   "source": [
    "Make a list of 20 tuples (action, cout action, gain action)"
   ]
  },
  {
   "cell_type": "code",
   "execution_count": 49,
   "id": "3994f2d8",
   "metadata": {},
   "outputs": [],
   "source": [
    "# Make a list of 20 tuples (action, cout action, gain action) prior to compute all combinations\n",
    "actions_cost_profit = []\n",
    "\n",
    "# Iterate over each row\n",
    "for index, rows in df.iterrows():  # n steps -> O(n)\n",
    "    actions_cost_profit.append((rows.name, rows.price, rows.gain))  # method append: O(1)"
   ]
  },
  {
   "cell_type": "markdown",
   "id": "93bd37df",
   "metadata": {},
   "source": [
    "**Time complexity to get the list of actions : O(n)**"
   ]
  },
  {
   "cell_type": "markdown",
   "id": "fedd3ae6",
   "metadata": {},
   "source": [
    "## Get all possible combinations"
   ]
  },
  {
   "cell_type": "code",
   "execution_count": 50,
   "id": "e7fbff74",
   "metadata": {},
   "outputs": [],
   "source": [
    "def get_combos(actions):\n",
    "    \"\"\"\n",
    "    Recursive function to get all actions combinations\n",
    "    :param actions: list of actions (tuples: 'action_name', cost, profit)\n",
    "    :return: all actions combination\n",
    "    \"\"\"\n",
    "\n",
    "    if not actions:\n",
    "        # BASE CASE\n",
    "        return [[]]\n",
    "\n",
    "    # RECURSIVE CASE\n",
    "    combos = []\n",
    "    head = [actions[0]]\n",
    "    tail = actions[1:]\n",
    "\n",
    "    tail_combos = get_combos(tail)\n",
    "    for t in tail_combos:\n",
    "        combos.append(head + t)\n",
    "\n",
    "    combos = combos + tail_combos\n",
    "    return combos"
   ]
  },
  {
   "cell_type": "markdown",
   "id": "51524860",
   "metadata": {},
   "source": [
    "### Time complexity of get_combos"
   ]
  },
  {
   "cell_type": "markdown",
   "id": "c3f1e817",
   "metadata": {},
   "source": [
    "3 tests :\n",
    "* dataset actions1.csv (20 actions) : time 0.4157\n",
    "* dataset actions2.csv (40 actions) : time 0.4201\n",
    "* dataset actions3.csv (80 actions) : time 0.4236"
   ]
  },
  {
   "cell_type": "code",
   "execution_count": 51,
   "id": "b16eff42",
   "metadata": {
    "scrolled": true
   },
   "outputs": [
    {
     "data": {
      "text/plain": [
       "[<matplotlib.lines.Line2D at 0x200286ef5e0>]"
      ]
     },
     "execution_count": 51,
     "metadata": {},
     "output_type": "execute_result"
    },
    {
     "data": {
      "image/png": "[encoded data removed]",
      "text/plain": [
       "<Figure size 432x288 with 1 Axes>"
      ]
     },
     "metadata": {
      "needs_background": "light"
     },
     "output_type": "display_data"
    }
   ],
   "source": [
    "import matplotlib.pyplot as plt\n",
    "plt.plot([20, 40, 80], [0.4157, 0.4201, 0.4236], color='green', marker='o', linewidth=2)"
   ]
  },
  {
   "cell_type": "markdown",
   "id": "c83d219e",
   "metadata": {},
   "source": [
    "The get_combos function has a complexity of **O(log n)**.<br>"
   ]
  },
  {
   "cell_type": "markdown",
   "id": "af0fcbba",
   "metadata": {},
   "source": [
    "## Get ROI"
   ]
  },
  {
   "cell_type": "code",
   "execution_count": 52,
   "id": "2dc67238",
   "metadata": {},
   "outputs": [],
   "source": [
    "def roi(combos):\n",
    "    \"\"\"\n",
    "    Function that computes cost and profit for each combination and append it to combination\n",
    "    :param combos: list of all combinations (each combination is a list of tuples: action_name, cost, profit)\n",
    "    :return: generator\n",
    "    \"\"\"\n",
    "\n",
    "    for combo in combos:  # steps = c = nb combos\n",
    "        cost = 0\n",
    "        profit = 0\n",
    "\n",
    "        for action in combo:  # steps = n = nb actions\n",
    "            cost += action[1]\n",
    "            profit += action[2]\n",
    "\n",
    "        combo.append(cost)  # method append() : O(1)\n",
    "        combo.append(profit)\n",
    "\n",
    "        yield combo"
   ]
  },
  {
   "cell_type": "markdown",
   "id": "3ea26606",
   "metadata": {},
   "source": [
    "### Time complexity of roi\n",
    "The roi function has a time complexity of O(nc)<br>\n",
    "As c = 2<sup>n</sup>, the roi function has a time complexity of O(n2<sup>n</sup>), or **O(2<sup>n</sup>)**"
   ]
  },
  {
   "cell_type": "markdown",
   "id": "372e7128",
   "metadata": {},
   "source": [
    "## Get max profit for cost <= 500"
   ]
  },
  {
   "cell_type": "code",
   "execution_count": 53,
   "id": "9fa0e46d",
   "metadata": {},
   "outputs": [
    {
     "name": "stdout",
     "output_type": "stream",
     "text": [
      "Meilleure combinaison : [4, 5, 6, 8, 10, 11, 13, 18, 19, 20] \n",
      "Cout: 498 \n",
      "Gain: 99.08000000000001\n"
     ]
    }
   ],
   "source": [
    "def best_combo(max_cost):\n",
    "    all_combos = []\n",
    "    for comb in roi(get_combos(actions_cost_profit)):  # steps = nomb combos\n",
    "        *actions, cost, profit = comb\n",
    "        if cost > max_cost:\n",
    "            continue\n",
    "        all_combos.append([[*actions], cost, profit])  # method append(): O(1)\n",
    "    best = max(all_combos, key=lambda sublist: sublist[2])  # max: O(n)\n",
    "\n",
    "    best_comb_ = [i[0] for i in best[0]]\n",
    "    min_cost_ = best[1]\n",
    "    max_profit_ = best[2]\n",
    "\n",
    "    return best_comb_, min_cost_, max_profit_\n",
    "\n",
    "\n",
    "best_comb, min_cost, max_profit = best_combo(500)\n",
    "\n",
    "print(f\"Meilleure combinaison : {best_comb} \\n\"\n",
    "      f\"Cout: {min_cost} \\n\"\n",
    "      f\"Gain: {max_profit}\")"
   ]
  },
  {
   "cell_type": "markdown",
   "id": "dabc6a58",
   "metadata": {},
   "source": [
    "### Time complexity of best_combo\n",
    "The best_combo function has a time complexity of **O(n)**"
   ]
  },
  {
   "cell_type": "markdown",
   "id": "077a0faa",
   "metadata": {},
   "source": [
    "### Total complexity : O(2<sup>n</sup>)\n",
    "Time will increase exponentially as data grows"
   ]
  }
 ],
 "metadata": {
  "kernelspec": {
   "display_name": "Python 3 (ipykernel)",
   "language": "python",
   "name": "python3"
  },
  "language_info": {
   "codemirror_mode": {
    "name": "ipython",
    "version": 3
   },
   "file_extension": ".py",
   "mimetype": "text/x-python",
   "name": "python",
   "nbconvert_exporter": "python",
   "pygments_lexer": "ipython3",
   "version": "3.9.7"
  }
 },
 "nbformat": 4,
 "nbformat_minor": 5
}
